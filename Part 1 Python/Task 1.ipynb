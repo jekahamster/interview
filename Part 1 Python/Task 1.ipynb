{
 "cells": [
  {
   "cell_type": "markdown",
   "id": "3e8637e6-00f7-451c-8397-affab5ea0dc8",
   "metadata": {},
   "source": [
    "## Task 1"
   ]
  },
  {
   "cell_type": "markdown",
   "id": "c69918c8-4af5-4da8-914a-5c2810fcfdfa",
   "metadata": {},
   "source": [
    "Описание: Реализуйте функцию, определяющая, является ли одна строка перестановкой другой (полиндром). Под перестановкой понимаем любое изменение порядка символов. Регистр учитывается, пробелы являются существенными."
   ]
  },
  {
   "cell_type": "code",
   "execution_count": 7,
   "id": "20396e88-f4f2-4174-bf6a-4718a84ad733",
   "metadata": {},
   "outputs": [],
   "source": [
    "from collections import Counter\n",
    "\n",
    "def is_permutation(string1, string2):\n",
    "    return Counter(string1) == Counter(string2)"
   ]
  },
  {
   "cell_type": "code",
   "execution_count": 9,
   "id": "cdd35794-26ef-4d21-9e64-de9f93824a48",
   "metadata": {},
   "outputs": [
    {
     "data": {
      "text/plain": [
       "True"
      ]
     },
     "execution_count": 9,
     "metadata": {},
     "output_type": "execute_result"
    }
   ],
   "source": [
    "is_permutation(\"asd \", \"as d\")"
   ]
  },
  {
   "cell_type": "markdown",
   "id": "fdc34039-eae8-4948-9159-48fc391473d1",
   "metadata": {},
   "source": [
    "## Task 2"
   ]
  },
  {
   "cell_type": "markdown",
   "id": "2da58954-948c-471b-bde8-0898836fcd1d",
   "metadata": {},
   "source": [
    "Описание Реализуйте функцию сжатия строки на основе счетчика повторяющихся символов. Например, строка aabcccccaaa должна превратиться в а2b1с5аЗ. Если «сжатая» строка оказывается длиннее исходной, метод должен вернуть исходную строку. "
   ]
  },
  {
   "cell_type": "code",
   "execution_count": 28,
   "id": "d2c62599-6692-4e08-8d32-2e9f672c4415",
   "metadata": {},
   "outputs": [],
   "source": [
    "def compress_string(string):\n",
    "    result = \"\" \n",
    "    \n",
    "    prev_char = \"\"\n",
    "    char_count = 0\n",
    "    \n",
    "    for char in string:\n",
    "        if prev_char == char:\n",
    "            char_count += 1\n",
    "        else:\n",
    "            result += f\"{prev_char}{char_count}\"\n",
    "            prev_char = char\n",
    "            char_count = 1\n",
    "            \n",
    "    result += f\"{prev_char}{char_count}\"\n",
    "    \n",
    "    result = result[1:]\n",
    "    if len(result) <= len(string):\n",
    "        return result\n",
    "    return string           "
   ]
  },
  {
   "cell_type": "code",
   "execution_count": 35,
   "id": "3aa6cc7f-dbff-4361-afe8-ac40d610262f",
   "metadata": {},
   "outputs": [
    {
     "name": "stdout",
     "output_type": "stream",
     "text": [
      "a2b1c5a3\n",
      "abcdeeffgh\n"
     ]
    }
   ],
   "source": [
    "print(compress_string(\"aabcccccaaa\"))\n",
    "print(compress_string(\"abcdeeffgh\"))"
   ]
  },
  {
   "cell_type": "markdown",
   "id": "03904247-631c-4e24-93b0-e7c4f879bc8c",
   "metadata": {},
   "source": [
    "## Task 3"
   ]
  },
  {
   "cell_type": "markdown",
   "id": "c6f3eece-03de-423b-8f37-a5e4b0f4484b",
   "metadata": {},
   "source": [
    "Описание Написать отдельный скрипт, принимающий из командной строки число, количество последних строчек, которые нужно прочесть из файла и вывести в консоль. Напишите \n",
    "предварительно отдельный скрипт, который генерирует текстовый файл и наполняет его случайными числами. Количество строк передается из командной строки. "
   ]
  },
  {
   "cell_type": "markdown",
   "id": "91128ed5-83f1-4fed-9d82-906686756ca2",
   "metadata": {},
   "source": [
    "Check task_3.py"
   ]
  }
 ],
 "metadata": {
  "kernelspec": {
   "display_name": "Python 3 (ipykernel)",
   "language": "python",
   "name": "python3"
  },
  "language_info": {
   "codemirror_mode": {
    "name": "ipython",
    "version": 3
   },
   "file_extension": ".py",
   "mimetype": "text/x-python",
   "name": "python",
   "nbconvert_exporter": "python",
   "pygments_lexer": "ipython3",
   "version": "3.9.7"
  }
 },
 "nbformat": 4,
 "nbformat_minor": 5
}
